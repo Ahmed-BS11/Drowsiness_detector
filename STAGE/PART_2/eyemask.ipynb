{
 "cells": [
  {
   "cell_type": "code",
   "execution_count": 1,
   "metadata": {},
   "outputs": [],
   "source": [
    "import cv2\n",
    "import numpy as np\n",
    "import dlib\n",
    "import matplotlib.pyplot as plt"
   ]
  },
  {
   "cell_type": "code",
   "execution_count": 2,
   "metadata": {},
   "outputs": [],
   "source": [
    "def detect_face_landmarks(frame, face_detector, landmark_predictor):\n",
    "    \n",
    "    gray_frame = cv2.cvtColor(frame, cv2.COLOR_BGR2GRAY)\n",
    "    faces = face_detector(gray_frame)\n",
    "    \n",
    "    landmarks_list = []\n",
    "    for face in faces:\n",
    "        landmarks = landmark_predictor(gray_frame, face)\n",
    "        landmarks_points = [(landmarks.part(n).x, landmarks.part(n).y) for n in range(68)]\n",
    "        landmarks_list.append(landmarks_points)\n",
    "    \n",
    "    return landmarks_list"
   ]
  },
  {
   "cell_type": "code",
   "execution_count": 13,
   "metadata": {},
   "outputs": [],
   "source": [
    "def extract_eyes_from_landmarks(frame, landmarks):\n",
    "    \n",
    "    if len(landmarks) != 68:\n",
    "        raise ValueError(\"Facial landmarks should contain 68 points.\")\n",
    "\n",
    "    # Define the indices for the left and right eyes based on facial landmarks.\n",
    "    left_eye_indices = [i for i in range(36, 42)]\n",
    "    right_eye_indices = [i for i in range(42, 48)]\n",
    "\n",
    "    # Extract left and right eye regions from the frame.\n",
    "    left_eye_coords = np.array([landmarks[i] for i in left_eye_indices], dtype=np.int32)\n",
    "    right_eye_coords = np.array([landmarks[i] for i in right_eye_indices], dtype=np.int32)\n",
    "\n",
    "    # Create a mask for each eye region.\n",
    "    mask_left = np.zeros_like(frame)\n",
    "    mask_right = np.zeros_like(frame)\n",
    "    cv2.fillPoly(mask_left, [left_eye_coords], (255, 255, 255))\n",
    "    cv2.fillPoly(mask_right, [right_eye_coords], (255, 255, 255))\n",
    "\n",
    "    # Apply the mask to the frame to get the eye regions.\n",
    "    left_eye_region = cv2.bitwise_and(frame, mask_left)\n",
    "    right_eye_region = cv2.bitwise_and(frame, mask_right)\n",
    "\n",
    "    # Convert the eye regions to grayscale for further processing if needed.\n",
    "    left_eye_gray = cv2.cvtColor(left_eye_region, cv2.COLOR_BGR2GRAY)\n",
    "    right_eye_gray = cv2.cvtColor(right_eye_region, cv2.COLOR_BGR2GRAY)\n",
    "\n",
    "    return [left_eye_gray, right_eye_gray]"
   ]
  },
  {
   "cell_type": "code",
   "execution_count": 14,
   "metadata": {},
   "outputs": [],
   "source": [
    "# Load the dlib face detector and facial landmark predictor models\n",
    "face_detector = dlib.get_frontal_face_detector()\n",
    "landmark_predictor = dlib.shape_predictor('..\\\\dlib_shape_predictor\\\\shape_predictor_68_face_landmarks.dat')\n",
    "\n",
    "# Example usage:\n",
    "# Assuming 'frame' is your input image\n",
    "frame=plt.imread(\"driver.jpg\")\n",
    "\n",
    "# Detect facial landmarks\n",
    "landmarks = detect_face_landmarks(frame, face_detector, landmark_predictor)\n",
    "\n",
    "# If a face is detected, extract eye regions from the frame\n",
    "if len(landmarks) > 0:\n",
    "    eyes = extract_eyes_from_landmarks(frame, landmarks[0])  # Considering the first detected face\n",
    "    left_eye, right_eye = eyes[0], eyes[1]\n"
   ]
  },
  {
   "cell_type": "code",
   "execution_count": 16,
   "metadata": {},
   "outputs": [],
   "source": [
    "# Open the webcam\n",
    "cap = cv2.VideoCapture(0)\n",
    "\n",
    "while True:\n",
    "    ret, frame = cap.read()\n",
    "\n",
    "    if not ret:\n",
    "        break\n",
    "\n",
    "    # Detect facial landmarks\n",
    "    landmarks = detect_face_landmarks(frame, face_detector, landmark_predictor)\n",
    "\n",
    "    # If a face is detected, extract eye regions from the frame\n",
    "    if len(landmarks) > 0:\n",
    "        eyes = extract_eyes_from_landmarks(frame, landmarks[0])  # Considering the first detected face\n",
    "        left_eye, right_eye = eyes[0], eyes[1]\n",
    "\n",
    "        # Display the result\n",
    "        cv2.imshow('Left Eye', left_eye)\n",
    "        cv2.imshow('Right Eye', right_eye)\n",
    "    else:\n",
    "        cv2.putText(frame, 'No face detected', (10, 30), cv2.FONT_HERSHEY_SIMPLEX, 1, (0, 0, 255), 2)\n",
    "        cv2.imshow('Frame', frame)\n",
    "\n",
    "    # Exit the loop when 'q' key is pressed\n",
    "    if cv2.waitKey(1) & 0xFF == ord('q'):\n",
    "        break\n",
    "\n",
    "# Release the webcam and close all windows\n",
    "cap.release()\n",
    "cv2.destroyAllWindows()"
   ]
  },
  {
   "cell_type": "code",
   "execution_count": null,
   "metadata": {},
   "outputs": [],
   "source": []
  }
 ],
 "metadata": {
  "kernelspec": {
   "display_name": "Python 3",
   "language": "python",
   "name": "python3"
  },
  "language_info": {
   "codemirror_mode": {
    "name": "ipython",
    "version": 3
   },
   "file_extension": ".py",
   "mimetype": "text/x-python",
   "name": "python",
   "nbconvert_exporter": "python",
   "pygments_lexer": "ipython3",
   "version": "3.10.11"
  },
  "orig_nbformat": 4
 },
 "nbformat": 4,
 "nbformat_minor": 2
}
