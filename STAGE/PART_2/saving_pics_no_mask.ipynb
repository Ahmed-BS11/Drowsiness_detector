{
 "cells": [
  {
   "cell_type": "code",
   "execution_count": 7,
   "metadata": {},
   "outputs": [],
   "source": [
    "import cv2\n",
    "import numpy as np\n",
    "import dlib\n",
    "import matplotlib.pyplot as plt\n",
    "import os\n",
    "import tensorflow as tf "
   ]
  },
  {
   "cell_type": "code",
   "execution_count": 8,
   "metadata": {},
   "outputs": [],
   "source": [
    "def detect_face_landmarks(frame, face_detector, landmark_predictor):\n",
    "    \n",
    "    gray_frame = cv2.cvtColor(frame, cv2.COLOR_BGR2GRAY)\n",
    "    faces = face_detector(gray_frame)\n",
    "    \n",
    "    landmarks_list = []\n",
    "    for face in faces:\n",
    "        landmarks = landmark_predictor(gray_frame, face)\n",
    "        landmarks_points = [(landmarks.part(n).x, landmarks.part(n).y) for n in range(68)]\n",
    "        landmarks_list.append(landmarks_points)\n",
    "    \n",
    "    return landmarks_list"
   ]
  },
  {
   "cell_type": "code",
   "execution_count": 9,
   "metadata": {},
   "outputs": [],
   "source": [
    "def extract_eyes_from_landmarks(frame, landmarks):\n",
    "    \n",
    "    if len(landmarks) != 68:\n",
    "        raise ValueError(\"Facial landmarks should contain 68 points.\")\n",
    "\n",
    "    # Define the indices for the left and right eyes based on facial landmarks.\n",
    "    left_eye_indices = [i for i in range(36, 42)]\n",
    "    right_eye_indices = [i for i in range(42, 48)]\n",
    "\n",
    "    # Extract left and right eye regions from the frame.\n",
    "    left_eye_coords = np.array([landmarks[i] for i in left_eye_indices], dtype=np.int32)\n",
    "    right_eye_coords = np.array([landmarks[i] for i in right_eye_indices], dtype=np.int32)\n",
    "\n",
    "    # Create a mask for each eye region.\n",
    "    mask_left = np.zeros_like(frame)\n",
    "    mask_right = np.zeros_like(frame)\n",
    "    cv2.fillPoly(mask_left, [left_eye_coords], (255, 255, 255))\n",
    "    cv2.fillPoly(mask_right, [right_eye_coords], (255, 255, 255))\n",
    "\n",
    "    # Apply the mask to the frame to get the eye regions.\n",
    "    left_eye_region = cv2.bitwise_and(frame, mask_left)\n",
    "    right_eye_region = cv2.bitwise_and(frame, mask_right)\n",
    "\n",
    "    # Convert the eye regions to grayscale for further processing if needed.\n",
    "    left_eye_gray = cv2.cvtColor(left_eye_region, cv2.COLOR_BGR2GRAY)\n",
    "    right_eye_gray = cv2.cvtColor(right_eye_region, cv2.COLOR_BGR2GRAY)\n",
    "\n",
    "    return [left_eye_gray, right_eye_gray]"
   ]
  },
  {
   "cell_type": "code",
   "execution_count": 10,
   "metadata": {},
   "outputs": [],
   "source": [
    "def preprocess_single_image(image_path, img_size):\n",
    "    # Read the image in grayscale\n",
    "    img_array = cv2.imread(image_path, cv2.IMREAD_GRAYSCALE)\n",
    "\n",
    "    # Resize the image while maintaining the aspect ratio\n",
    "    desired_size = (img_size, img_size)\n",
    "    height, width = img_array.shape\n",
    "    aspect_ratio = width / height\n",
    "\n",
    "    if aspect_ratio >= 1:\n",
    "        new_width = desired_size[0]\n",
    "        new_height = int(new_width / aspect_ratio)\n",
    "    else:\n",
    "        new_height = desired_size[1]\n",
    "        new_width = int(new_height * aspect_ratio)\n",
    "\n",
    "    resized_image = cv2.resize(img_array, (new_width, new_height))\n",
    "\n",
    "    # Pad the resized image to make it square (img_size x img_size)\n",
    "    pad_width = (desired_size[1] - new_height) // 2\n",
    "    pad_height = (desired_size[0] - new_width) // 2\n",
    "    padded_image = np.pad(resized_image, ((pad_width, pad_width), (pad_height, pad_height)), mode='constant', constant_values=0)\n",
    "\n",
    "    # Convert the grayscale image to RGB\n",
    "    rgb_image = cv2.cvtColor(padded_image, cv2.COLOR_GRAY2RGB)\n",
    "\n",
    "    return rgb_image\n"
   ]
  },
  {
   "cell_type": "code",
   "execution_count": null,
   "metadata": {},
   "outputs": [],
   "source": []
  }
 ],
 "metadata": {
  "kernelspec": {
   "display_name": "Python 3",
   "language": "python",
   "name": "python3"
  },
  "language_info": {
   "codemirror_mode": {
    "name": "ipython",
    "version": 3
   },
   "file_extension": ".py",
   "mimetype": "text/x-python",
   "name": "python",
   "nbconvert_exporter": "python",
   "pygments_lexer": "ipython3",
   "version": "3.10.11"
  },
  "orig_nbformat": 4
 },
 "nbformat": 4,
 "nbformat_minor": 2
}
